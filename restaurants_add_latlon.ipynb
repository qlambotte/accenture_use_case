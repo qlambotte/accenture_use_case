{
 "cells": [
  {
   "cell_type": "code",
   "execution_count": 9,
   "metadata": {},
   "outputs": [
    {
     "name": "stdout",
     "output_type": "stream",
     "text": [
      "(37.7844191, -122.3901329)\n"
     ]
    }
   ],
   "source": [
    "from geopy.geocoders import Nominatim\n",
    "import pandas as pd\n",
    "\n",
    "df_restaurant = pd.read_csv('ODL_RESTAURANT.csv')\n",
    "df_restaurant = df_restaurant.drop(columns=['id', '_rid', '_self', '_etag', '_attachments', '_ts'])\n",
    "\n",
    "geolocator = Nominatim(user_agent=\"Acc_app_geo\")\n",
    "\n",
    "def get_address_latlon(address):\n",
    "    location = geolocator.geocode(address, timeout=10)\n",
    "    if location:\n",
    "        lat=location.latitude\n",
    "        lon=location.longitude\n",
    "    else :\n",
    "        lat = None\n",
    "        lon = None\n",
    "    return lat, lon\n",
    "\n",
    "print(get_address_latlon(\"Bayside Village Pl\"))\n",
    "df_restaurant_latlon = df_restaurant\n",
    "df_restaurant_latlon['latlon'] = (df_restaurant['street'].map(str) + ', ' + df_restaurant['city'].map(str)).apply(get_address_latlon)\n",
    "\n",
    "df_restaurant_latlon['latlon'] = df_restaurant_latlon['latlon'].str.replace(\"(\", \"\")\n",
    "df_restaurant_latlon['latlon'] = df_restaurant_latlon['latlon'].str.replace(\")\", \"\")\n",
    "df_restaurant_latlon[['lat', 'lon']] = df_restaurant_latlon['latlon'].str.split(',', 1, expand=True)\n",
    "df_restaurant_latlon = df_restaurant_latlon.drop(columns=['latlon'])\n",
    "df_restaurant_latlon['lat'] = df_restaurant_latlon['lat'].str.strip()\n",
    "df_restaurant_latlon['lon'] = df_restaurant_latlon['lon'].str.strip()\n",
    "\n",
    "df_restaurant_latlon.to_csv('ODL_RESTAURANT_latlon.csv', index=False) "
   ]
  },
  {
   "cell_type": "code",
   "execution_count": null,
   "metadata": {},
   "outputs": [],
   "source": []
  }
 ],
 "metadata": {
  "interpreter": {
   "hash": "31f2aee4e71d21fbe5cf8b01ff0e069b9275f58929596ceb00d14d90e3e16cd6"
  },
  "kernelspec": {
   "display_name": "Python 3.8.10 64-bit",
   "language": "python",
   "name": "python3"
  },
  "language_info": {
   "codemirror_mode": {
    "name": "ipython",
    "version": 3
   },
   "file_extension": ".py",
   "mimetype": "text/x-python",
   "name": "python",
   "nbconvert_exporter": "python",
   "pygments_lexer": "ipython3",
   "version": "3.8.10"
  }
 },
 "nbformat": 4,
 "nbformat_minor": 4
}
