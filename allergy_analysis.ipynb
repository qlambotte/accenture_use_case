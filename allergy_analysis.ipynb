{
 "cells": [
  {
   "cell_type": "code",
   "execution_count": 1,
   "id": "eff55884-ce9e-4fd9-99ff-ddc3227d7824",
   "metadata": {},
   "outputs": [],
   "source": [
    "import pandas as pd"
   ]
  },
  {
   "cell_type": "markdown",
   "id": "cb549cbe-5d14-49ca-8c3b-9f1a96f0f214",
   "metadata": {},
   "source": [
    "Raw df from csv files"
   ]
  },
  {
   "cell_type": "code",
   "execution_count": 2,
   "id": "57a4ab38-2b43-4ae5-a028-62dc2b637c3f",
   "metadata": {},
   "outputs": [],
   "source": [
    "allergy_customer = pd.read_csv(\"ODL_ALLERGY_CUSTOMER.csv\", usecols=[\"allergy_id\",\"customer_id\"])\n",
    "allergy = pd.read_csv(\"ODL_ALLERGY.csv\", usecols=[\"data_id\",\"severity\", \"name\"])\n",
    "restaurant = pd.read_csv(\"ODL_RESTAURANT.csv\", usecols=[\"data_id\", \"name\", \"opening_hours\", \"city\", \"street\", \"phone_number\", \"creation_date\", \"email\"])\n",
    "order = pd.read_csv(\"ODL_ORDER.csv\", usecols=[\"restaurant_id\", \"creation_date\", \"customer_id\", \"data_id\"])\n",
    "orderables = pd.read_csv(\"ODL_ORDERABLES.csv\", usecols=[\"price\", \"restaurant_id\", \"data_id\", \"name\"])\n",
    "order_item = pd.read_csv(\"ODL_ORDER_ITEM.csv\", usecols=[\"order_id\", \"amount\", \"data_id\", \"orderable_id\"])"
   ]
  },
  {
   "cell_type": "markdown",
   "id": "0d246c18-cd33-4296-983d-eb32591afdbe",
   "metadata": {},
   "source": [
    "Quick cleaning"
   ]
  },
  {
   "cell_type": "code",
   "execution_count": 3,
   "id": "136ed5e6-d95f-4eb3-b6e9-2d5188fcfc67",
   "metadata": {},
   "outputs": [],
   "source": [
    "allergy = allergy.drop_duplicates(subset=\"data_id\")"
   ]
  },
  {
   "cell_type": "code",
   "execution_count": 4,
   "id": "6c4e184f-7557-4d4c-ac96-e92df7681f3c",
   "metadata": {},
   "outputs": [],
   "source": [
    "def correct_data(row):\n",
    "    if pd.isnull(row[\"customer_id\"]):\n",
    "        data = row[\"allergy_id\"].split(\";\")\n",
    "        row[\"allergy_id\"] = int(data[0])\n",
    "        row[\"customer_id\"] = int(data[1])\n",
    "    else: \n",
    "        row[\"customer_id\"] = int(row[\"customer_id\"])\n",
    "        row[\"allergy_id\"] = int(row[\"allergy_id\"])\n",
    "    return row\n",
    "\n",
    "allergy_customer = allergy_customer.apply(correct_data, axis = 1)"
   ]
  },
  {
   "cell_type": "markdown",
   "id": "b188fcfd-1778-45a3-8127-832b6358a488",
   "metadata": {},
   "source": [
    "We add informations to several tables by merging data, etc.\n",
    "\n",
    "First, add a price col to order_item and total amount col as well."
   ]
  },
  {
   "cell_type": "code",
   "execution_count": 5,
   "id": "ac5b0b84-8c5b-4adc-9b55-fc7f4f9a1e50",
   "metadata": {},
   "outputs": [],
   "source": [
    "order_item = order_item.join(orderables.set_index(\"data_id\"), on=\"orderable_id\")\n",
    "order_item[\"total\"] = order_item[\"amount\"] * order_item[\"price\"]"
   ]
  },
  {
   "cell_type": "markdown",
   "id": "5109d884-eea0-4277-a759-5980f87f6628",
   "metadata": {},
   "source": [
    "Now we compute the total amount spend per order and add it to the table. We add the city as well."
   ]
  },
  {
   "cell_type": "code",
   "execution_count": 6,
   "id": "3095b9ef-8eaa-4d2a-a9d4-e70fba92e577",
   "metadata": {},
   "outputs": [],
   "source": [
    "order_tot = order_item[[\"order_id\",\"total\"]].groupby(\"order_id\").sum()\n",
    "order = order.join(order_tot, on=\"data_id\")\n",
    "order = order.join(restaurant[[\"data_id\",\"city\"]].set_index(\"data_id\"), on=\"restaurant_id\")"
   ]
  },
  {
   "cell_type": "markdown",
   "id": "307bb9bd-db5a-47db-93e3-9bf18ae366e1",
   "metadata": {},
   "source": [
    "We add allergy info per order"
   ]
  },
  {
   "cell_type": "code",
   "execution_count": 7,
   "id": "dbd293f5-83d7-43c4-ba49-2a477ae99915",
   "metadata": {},
   "outputs": [],
   "source": [
    "allergic_customer = set(allergy_customer[\"customer_id\"].tolist())"
   ]
  },
  {
   "cell_type": "code",
   "execution_count": 8,
   "id": "32426800-d83e-471f-b173-6873c22179d8",
   "metadata": {},
   "outputs": [],
   "source": [
    "order[\"is_allergic\"] = order[\"customer_id\"].map(lambda x: (x in allergic_customer))"
   ]
  },
  {
   "cell_type": "markdown",
   "id": "390952de-313b-44d6-b8ff-c36799cb86a4",
   "metadata": {},
   "source": [
    "Some orders have no items (we interpret this as a cancelled order). We keep a copy of them for future reference."
   ]
  },
  {
   "cell_type": "code",
   "execution_count": 9,
   "id": "1da17d3b-00ba-44cd-ad79-457f412966bf",
   "metadata": {},
   "outputs": [],
   "source": [
    "cancelled_orders = order[order.total.isna()]"
   ]
  },
  {
   "cell_type": "markdown",
   "id": "722e1ccc-2c49-444c-a747-48ac737f61e3",
   "metadata": {},
   "source": [
    "Drop cancelled orders"
   ]
  },
  {
   "cell_type": "code",
   "execution_count": 10,
   "id": "3d096474-b38e-40e2-a135-8542ddb9cfcc",
   "metadata": {},
   "outputs": [],
   "source": [
    "order.dropna(subset=[\"total\"], inplace=True)"
   ]
  },
  {
   "cell_type": "code",
   "execution_count": 11,
   "id": "c1a2194a-7c58-4704-9015-ea81d0f540b7",
   "metadata": {},
   "outputs": [],
   "source": [
    "order_groups = order.groupby([\"restaurant_id\", \"is_allergic\"])"
   ]
  },
  {
   "cell_type": "code",
   "execution_count": 12,
   "id": "4aa5e58b-53df-4855-9aa8-797cfba0993d",
   "metadata": {},
   "outputs": [],
   "source": [
    "revenue_per_restaurant = order_groups[\"total\"].sum()"
   ]
  },
  {
   "cell_type": "code",
   "execution_count": 13,
   "id": "db90366e-2232-4f10-9b95-c7f38c20c4b1",
   "metadata": {},
   "outputs": [
    {
     "data": {
      "text/plain": [
       "restaurant_id  is_allergic\n",
       "0              False           45902.7\n",
       "               True           101683.0\n",
       "1              False           18403.4\n",
       "               True            54626.6\n",
       "2              False           16431.5\n",
       "                                ...   \n",
       "421            True              567.1\n",
       "422            False             116.9\n",
       "               True              652.2\n",
       "423            True              891.7\n",
       "424            True               64.8\n",
       "Name: total, Length: 848, dtype: float64"
      ]
     },
     "execution_count": 13,
     "metadata": {},
     "output_type": "execute_result"
    }
   ],
   "source": [
    "revenue_per_restaurant"
   ]
  },
  {
   "cell_type": "code",
   "execution_count": 35,
   "id": "a1e617bc-5fc3-4295-a182-dc70489c6f72",
   "metadata": {},
   "outputs": [],
   "source": [
    "true_ind = revenue_per_restaurant[:,False].index\n",
    "rev_bis = revenue_per_restaurant.loc[pd.IndexSlice[true_ind,:,:]]"
   ]
  },
  {
   "cell_type": "code",
   "execution_count": 36,
   "id": "d3d05569-5c16-4618-801a-df388837528b",
   "metadata": {},
   "outputs": [
    {
     "data": {
      "text/plain": [
       "restaurant_id  is_allergic\n",
       "0              False           45902.7\n",
       "               True           101683.0\n",
       "1              False           18403.4\n",
       "               True            54626.6\n",
       "2              False           16431.5\n",
       "                                ...   \n",
       "420            True             1198.4\n",
       "421            False             233.8\n",
       "               True              567.1\n",
       "422            False             116.9\n",
       "               True              652.2\n",
       "Name: total, Length: 846, dtype: float64"
      ]
     },
     "execution_count": 36,
     "metadata": {},
     "output_type": "execute_result"
    }
   ],
   "source": [
    "rev_bis"
   ]
  },
  {
   "cell_type": "code",
   "execution_count": 46,
   "id": "003bee48-ed17-428e-9809-c5f55c79f5e7",
   "metadata": {},
   "outputs": [
    {
     "data": {
      "text/plain": [
       "restaurant_id\n",
       "418    True\n",
       "Name: total, dtype: bool"
      ]
     },
     "execution_count": 46,
     "metadata": {},
     "output_type": "execute_result"
    }
   ],
   "source": [
    "s = rev_bis.loc[:,True] < rev_bis.loc[:,False]\n",
    "s[s]"
   ]
  },
  {
   "cell_type": "code",
   "execution_count": 45,
   "id": "2210e98b-59f4-4d08-a1a7-ca07ad942503",
   "metadata": {},
   "outputs": [
    {
     "data": {
      "text/plain": [
       "is_allergic\n",
       "False    596.5\n",
       "True     516.9\n",
       "Name: total, dtype: float64"
      ]
     },
     "execution_count": 45,
     "metadata": {},
     "output_type": "execute_result"
    }
   ],
   "source": [
    "revenue_per_restaurant[418,:]"
   ]
  },
  {
   "cell_type": "code",
   "execution_count": 14,
   "id": "4d38ed1d-f4b6-4acb-962f-bd2aaeeaf9e7",
   "metadata": {},
   "outputs": [],
   "source": [
    "customer_per_rest = order_groups[\"customer_id\"].nunique()"
   ]
  },
  {
   "cell_type": "code",
   "execution_count": 15,
   "id": "e6c58ea4-6430-45e8-9f73-19fdaa416fa2",
   "metadata": {},
   "outputs": [
    {
     "data": {
      "text/plain": [
       "restaurant_id  is_allergic\n",
       "0              False          349\n",
       "               True           796\n",
       "1              False          175\n",
       "               True           504\n",
       "2              False          151\n",
       "                             ... \n",
       "421            True             3\n",
       "422            False            2\n",
       "               True             6\n",
       "423            True             3\n",
       "424            True             1\n",
       "Name: customer_id, Length: 848, dtype: int64"
      ]
     },
     "execution_count": 15,
     "metadata": {},
     "output_type": "execute_result"
    }
   ],
   "source": [
    "customer_per_rest"
   ]
  },
  {
   "cell_type": "code",
   "execution_count": 16,
   "id": "2de2af84-b4ef-4d29-a55d-7c1b0e9ed565",
   "metadata": {},
   "outputs": [
    {
     "data": {
      "text/html": [
       "<div>\n",
       "<style scoped>\n",
       "    .dataframe tbody tr th:only-of-type {\n",
       "        vertical-align: middle;\n",
       "    }\n",
       "\n",
       "    .dataframe tbody tr th {\n",
       "        vertical-align: top;\n",
       "    }\n",
       "\n",
       "    .dataframe thead th {\n",
       "        text-align: right;\n",
       "    }\n",
       "</style>\n",
       "<table border=\"1\" class=\"dataframe\">\n",
       "  <thead>\n",
       "    <tr style=\"text-align: right;\">\n",
       "      <th></th>\n",
       "      <th>restaurant_id</th>\n",
       "      <th>creation_date</th>\n",
       "      <th>customer_id</th>\n",
       "      <th>data_id</th>\n",
       "      <th>total</th>\n",
       "      <th>city</th>\n",
       "      <th>is_allergic</th>\n",
       "    </tr>\n",
       "  </thead>\n",
       "  <tbody>\n",
       "    <tr>\n",
       "      <th>0</th>\n",
       "      <td>91</td>\n",
       "      <td>8/25/17 18:49</td>\n",
       "      <td>2858</td>\n",
       "      <td>17265</td>\n",
       "      <td>178.8</td>\n",
       "      <td>New York</td>\n",
       "      <td>True</td>\n",
       "    </tr>\n",
       "    <tr>\n",
       "      <th>1</th>\n",
       "      <td>91</td>\n",
       "      <td>12/20/17 11:39</td>\n",
       "      <td>10055</td>\n",
       "      <td>44615</td>\n",
       "      <td>119.7</td>\n",
       "      <td>New York</td>\n",
       "      <td>False</td>\n",
       "    </tr>\n",
       "    <tr>\n",
       "      <th>2</th>\n",
       "      <td>91</td>\n",
       "      <td>11/23/18 10:12</td>\n",
       "      <td>13703</td>\n",
       "      <td>137232</td>\n",
       "      <td>208.5</td>\n",
       "      <td>New York</td>\n",
       "      <td>False</td>\n",
       "    </tr>\n",
       "    <tr>\n",
       "      <th>3</th>\n",
       "      <td>91</td>\n",
       "      <td>11/2/18 17:33</td>\n",
       "      <td>14698</td>\n",
       "      <td>131091</td>\n",
       "      <td>88.9</td>\n",
       "      <td>New York</td>\n",
       "      <td>True</td>\n",
       "    </tr>\n",
       "    <tr>\n",
       "      <th>4</th>\n",
       "      <td>91</td>\n",
       "      <td>7/24/18 9:49</td>\n",
       "      <td>14299</td>\n",
       "      <td>102153</td>\n",
       "      <td>165.2</td>\n",
       "      <td>New York</td>\n",
       "      <td>True</td>\n",
       "    </tr>\n",
       "    <tr>\n",
       "      <th>...</th>\n",
       "      <td>...</td>\n",
       "      <td>...</td>\n",
       "      <td>...</td>\n",
       "      <td>...</td>\n",
       "      <td>...</td>\n",
       "      <td>...</td>\n",
       "      <td>...</td>\n",
       "    </tr>\n",
       "    <tr>\n",
       "      <th>178718</th>\n",
       "      <td>414</td>\n",
       "      <td>2/23/19 13:58</td>\n",
       "      <td>18307</td>\n",
       "      <td>166377</td>\n",
       "      <td>87.0</td>\n",
       "      <td>New York</td>\n",
       "      <td>True</td>\n",
       "    </tr>\n",
       "    <tr>\n",
       "      <th>178719</th>\n",
       "      <td>404</td>\n",
       "      <td>2/8/19 18:23</td>\n",
       "      <td>19527</td>\n",
       "      <td>161413</td>\n",
       "      <td>51.9</td>\n",
       "      <td>New York</td>\n",
       "      <td>True</td>\n",
       "    </tr>\n",
       "    <tr>\n",
       "      <th>178720</th>\n",
       "      <td>412</td>\n",
       "      <td>3/15/19 14:46</td>\n",
       "      <td>20362</td>\n",
       "      <td>173165</td>\n",
       "      <td>181.2</td>\n",
       "      <td>New York</td>\n",
       "      <td>False</td>\n",
       "    </tr>\n",
       "    <tr>\n",
       "      <th>178721</th>\n",
       "      <td>402</td>\n",
       "      <td>1/3/19 10:19</td>\n",
       "      <td>9193</td>\n",
       "      <td>149327</td>\n",
       "      <td>45.0</td>\n",
       "      <td>San Francisco</td>\n",
       "      <td>True</td>\n",
       "    </tr>\n",
       "    <tr>\n",
       "      <th>178722</th>\n",
       "      <td>400</td>\n",
       "      <td>2/4/19 18:05</td>\n",
       "      <td>15050</td>\n",
       "      <td>160047</td>\n",
       "      <td>59.0</td>\n",
       "      <td>New York</td>\n",
       "      <td>True</td>\n",
       "    </tr>\n",
       "  </tbody>\n",
       "</table>\n",
       "<p>171107 rows × 7 columns</p>\n",
       "</div>"
      ],
      "text/plain": [
       "        restaurant_id   creation_date  customer_id  data_id  total  \\\n",
       "0                  91   8/25/17 18:49         2858    17265  178.8   \n",
       "1                  91  12/20/17 11:39        10055    44615  119.7   \n",
       "2                  91  11/23/18 10:12        13703   137232  208.5   \n",
       "3                  91   11/2/18 17:33        14698   131091   88.9   \n",
       "4                  91    7/24/18 9:49        14299   102153  165.2   \n",
       "...               ...             ...          ...      ...    ...   \n",
       "178718            414   2/23/19 13:58        18307   166377   87.0   \n",
       "178719            404    2/8/19 18:23        19527   161413   51.9   \n",
       "178720            412   3/15/19 14:46        20362   173165  181.2   \n",
       "178721            402    1/3/19 10:19         9193   149327   45.0   \n",
       "178722            400    2/4/19 18:05        15050   160047   59.0   \n",
       "\n",
       "                 city  is_allergic  \n",
       "0            New York         True  \n",
       "1            New York        False  \n",
       "2            New York        False  \n",
       "3            New York         True  \n",
       "4            New York         True  \n",
       "...               ...          ...  \n",
       "178718       New York         True  \n",
       "178719       New York         True  \n",
       "178720       New York        False  \n",
       "178721  San Francisco         True  \n",
       "178722       New York         True  \n",
       "\n",
       "[171107 rows x 7 columns]"
      ]
     },
     "execution_count": 16,
     "metadata": {},
     "output_type": "execute_result"
    }
   ],
   "source": [
    "order"
   ]
  },
  {
   "cell_type": "code",
   "execution_count": 17,
   "id": "b02f99e5-34bb-4524-bef0-c6f74f56bcdc",
   "metadata": {},
   "outputs": [],
   "source": [
    "order_city_group = order[[\"restaurant_id\", \"city\", \"total\"]].groupby([\"city\", \"restaurant_id\"])"
   ]
  },
  {
   "cell_type": "code",
   "execution_count": 18,
   "id": "24401a85-c60d-4d33-a4e5-488598fe9b68",
   "metadata": {},
   "outputs": [],
   "source": [
    "total_spent = order_city_group.sum().sum()"
   ]
  },
  {
   "cell_type": "code",
   "execution_count": 19,
   "id": "8261f4a6-a133-4335-b1f0-b9fa43114d04",
   "metadata": {},
   "outputs": [],
   "source": [
    "average_per_city = order_city_group.sum()"
   ]
  },
  {
   "cell_type": "code",
   "execution_count": 20,
   "id": "f40fbd68-28c3-488c-9669-a99fac034b2e",
   "metadata": {},
   "outputs": [],
   "source": [
    "mean_ny = average_per_city.loc[\"New York\",:].mean()\n",
    "mean_sf = average_per_city.loc[\"San Francisco\",:].mean()"
   ]
  },
  {
   "cell_type": "code",
   "execution_count": 21,
   "id": "12023e04-3c3f-4cb3-a766-562ed2358c35",
   "metadata": {},
   "outputs": [],
   "source": [
    "mean_all = average_per_city.mean()"
   ]
  },
  {
   "cell_type": "code",
   "execution_count": 23,
   "id": "f0b1b24a-0f07-4103-bca9-12a5dff9f9ab",
   "metadata": {},
   "outputs": [
    {
     "data": {
      "text/plain": [
       "total    2.061633e+07\n",
       "dtype: float64"
      ]
     },
     "execution_count": 23,
     "metadata": {},
     "output_type": "execute_result"
    }
   ],
   "source": []
  },
  {
   "cell_type": "code",
   "execution_count": 24,
   "id": "216394f5-5f4b-4f95-8108-c74ce242a512",
   "metadata": {},
   "outputs": [
    {
     "data": {
      "text/plain": [
       "<AxesSubplot:xlabel='restaurant_id,is_allergic'>"
      ]
     },
     "execution_count": 24,
     "metadata": {},
     "output_type": "execute_result"
    },
    {
     "data": {
      "image/png": "[encoded data removed]",
      "text/plain": [
       "<Figure size 432x288 with 1 Axes>"
      ]
     },
     "metadata": {
      "needs_background": "light"
     },
     "output_type": "display_data"
    }
   ],
   "source": [
    "revenue_per_restaurant.plot()"
   ]
  },
  {
   "cell_type": "code",
   "execution_count": 54,
   "id": "24a6c7fe-40ea-44ab-9945-26d4d6fdf332",
   "metadata": {},
   "outputs": [
    {
     "data": {
      "text/plain": [
       "restaurant_id  is_allergic\n",
       "0              False           45902.7\n",
       "               True           101683.0\n",
       "1              False           18403.4\n",
       "               True            54626.6\n",
       "2              False           16431.5\n",
       "                                ...   \n",
       "421            True              567.1\n",
       "422            False             116.9\n",
       "               True              652.2\n",
       "423            True              891.7\n",
       "424            True               64.8\n",
       "Name: total, Length: 848, dtype: float64"
      ]
     },
     "execution_count": 54,
     "metadata": {},
     "output_type": "execute_result"
    }
   ],
   "source": [
    "\n",
    "revenue_per_restaurant"
   ]
  },
  {
   "cell_type": "code",
   "execution_count": null,
   "id": "37ea1f29-c72b-4b88-bdf0-189f86e30097",
   "metadata": {},
   "outputs": [],
   "source": []
  },
  {
   "cell_type": "code",
   "execution_count": 48,
   "id": "558fc9a6-4e1c-42ae-86b1-250346e5ff1f",
   "metadata": {},
   "outputs": [
    {
     "data": {
      "text/plain": [
       "Index([False,  True, False,  True, False,  True, False,  True, False,  True,\n",
       "       ...\n",
       "       False,  True, False,  True, False,  True, False,  True,  True,  True],\n",
       "      dtype='object', name='is_allergic', length=848)"
      ]
     },
     "execution_count": 48,
     "metadata": {},
     "output_type": "execute_result"
    }
   ],
   "source": [
    "revenue_per_restaurant.index.get_level_values('is_allergic')"
   ]
  },
  {
   "cell_type": "code",
   "execution_count": 51,
   "id": "cd573e92-a58e-4ead-823b-6abd7e8a7b59",
   "metadata": {},
   "outputs": [],
   "source": [
    "df = revenue_per_restaurant.reset_index()"
   ]
  },
  {
   "cell_type": "code",
   "execution_count": 56,
   "id": "3e6b205c-2cea-47b7-abfc-61a1b229bbf8",
   "metadata": {},
   "outputs": [
    {
     "data": {
      "text/plain": [
       "<AxesSubplot:xlabel='restaurant_id', ylabel='total'>"
      ]
     },
     "execution_count": 56,
     "metadata": {},
     "output_type": "execute_result"
    },
    {
     "data": {
      "image/png": "[encoded data removed]",
      "text/plain": [
       "<Figure size 432x288 with 1 Axes>"
      ]
     },
     "metadata": {
      "needs_background": "light"
     },
     "output_type": "display_data"
    }
   ],
   "source": [
    "import seaborn as sns\n",
    "\n",
    "sns.barplot(x=\"restaurant_id\", y=\"total\", hue=\"is_allergic\", data=df)"
   ]
  },
  {
   "cell_type": "code",
   "execution_count": 55,
   "id": "c05409ba-b015-4ac2-ba10-8cd50df9acb4",
   "metadata": {},
   "outputs": [
    {
     "data": {
      "text/html": [
       "<div>\n",
       "<style scoped>\n",
       "    .dataframe tbody tr th:only-of-type {\n",
       "        vertical-align: middle;\n",
       "    }\n",
       "\n",
       "    .dataframe tbody tr th {\n",
       "        vertical-align: top;\n",
       "    }\n",
       "\n",
       "    .dataframe thead th {\n",
       "        text-align: right;\n",
       "    }\n",
       "</style>\n",
       "<table border=\"1\" class=\"dataframe\">\n",
       "  <thead>\n",
       "    <tr style=\"text-align: right;\">\n",
       "      <th></th>\n",
       "      <th>restaurant_id</th>\n",
       "      <th>is_allergic</th>\n",
       "      <th>total</th>\n",
       "    </tr>\n",
       "  </thead>\n",
       "  <tbody>\n",
       "    <tr>\n",
       "      <th>0</th>\n",
       "      <td>0</td>\n",
       "      <td>False</td>\n",
       "      <td>45902.7</td>\n",
       "    </tr>\n",
       "    <tr>\n",
       "      <th>1</th>\n",
       "      <td>0</td>\n",
       "      <td>True</td>\n",
       "      <td>101683.0</td>\n",
       "    </tr>\n",
       "    <tr>\n",
       "      <th>2</th>\n",
       "      <td>1</td>\n",
       "      <td>False</td>\n",
       "      <td>18403.4</td>\n",
       "    </tr>\n",
       "    <tr>\n",
       "      <th>3</th>\n",
       "      <td>1</td>\n",
       "      <td>True</td>\n",
       "      <td>54626.6</td>\n",
       "    </tr>\n",
       "    <tr>\n",
       "      <th>4</th>\n",
       "      <td>2</td>\n",
       "      <td>False</td>\n",
       "      <td>16431.5</td>\n",
       "    </tr>\n",
       "    <tr>\n",
       "      <th>...</th>\n",
       "      <td>...</td>\n",
       "      <td>...</td>\n",
       "      <td>...</td>\n",
       "    </tr>\n",
       "    <tr>\n",
       "      <th>843</th>\n",
       "      <td>421</td>\n",
       "      <td>True</td>\n",
       "      <td>567.1</td>\n",
       "    </tr>\n",
       "    <tr>\n",
       "      <th>844</th>\n",
       "      <td>422</td>\n",
       "      <td>False</td>\n",
       "      <td>116.9</td>\n",
       "    </tr>\n",
       "    <tr>\n",
       "      <th>845</th>\n",
       "      <td>422</td>\n",
       "      <td>True</td>\n",
       "      <td>652.2</td>\n",
       "    </tr>\n",
       "    <tr>\n",
       "      <th>846</th>\n",
       "      <td>423</td>\n",
       "      <td>True</td>\n",
       "      <td>891.7</td>\n",
       "    </tr>\n",
       "    <tr>\n",
       "      <th>847</th>\n",
       "      <td>424</td>\n",
       "      <td>True</td>\n",
       "      <td>64.8</td>\n",
       "    </tr>\n",
       "  </tbody>\n",
       "</table>\n",
       "<p>848 rows × 3 columns</p>\n",
       "</div>"
      ],
      "text/plain": [
       "     restaurant_id  is_allergic     total\n",
       "0                0        False   45902.7\n",
       "1                0         True  101683.0\n",
       "2                1        False   18403.4\n",
       "3                1         True   54626.6\n",
       "4                2        False   16431.5\n",
       "..             ...          ...       ...\n",
       "843            421         True     567.1\n",
       "844            422        False     116.9\n",
       "845            422         True     652.2\n",
       "846            423         True     891.7\n",
       "847            424         True      64.8\n",
       "\n",
       "[848 rows x 3 columns]"
      ]
     },
     "execution_count": 55,
     "metadata": {},
     "output_type": "execute_result"
    }
   ],
   "source": [
    "df"
   ]
  },
  {
   "cell_type": "code",
   "execution_count": null,
   "id": "c2ab0e21-0776-4ee8-931b-b34b6e38142f",
   "metadata": {},
   "outputs": [],
   "source": []
  }
 ],
 "metadata": {
  "kernelspec": {
   "display_name": "Python 3 (ipykernel)",
   "language": "python",
   "name": "python3"
  },
  "language_info": {
   "codemirror_mode": {
    "name": "ipython",
    "version": 3
   },
   "file_extension": ".py",
   "mimetype": "text/x-python",
   "name": "python",
   "nbconvert_exporter": "python",
   "pygments_lexer": "ipython3",
   "version": "3.9.11"
  }
 },
 "nbformat": 4,
 "nbformat_minor": 5
}
