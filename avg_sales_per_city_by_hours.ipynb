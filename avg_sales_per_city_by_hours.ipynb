{
 "cells": [
  {
   "cell_type": "code",
   "execution_count": 18,
   "metadata": {},
   "outputs": [
    {
     "data": {
      "text/html": [
       "<div>\n",
       "<style scoped>\n",
       "    .dataframe tbody tr th:only-of-type {\n",
       "        vertical-align: middle;\n",
       "    }\n",
       "\n",
       "    .dataframe tbody tr th {\n",
       "        vertical-align: top;\n",
       "    }\n",
       "\n",
       "    .dataframe thead th {\n",
       "        text-align: right;\n",
       "    }\n",
       "</style>\n",
       "<table border=\"1\" class=\"dataframe\">\n",
       "  <thead>\n",
       "    <tr style=\"text-align: right;\">\n",
       "      <th></th>\n",
       "      <th>creation_time</th>\n",
       "      <th>counts</th>\n",
       "    </tr>\n",
       "  </thead>\n",
       "  <tbody>\n",
       "    <tr>\n",
       "      <th>11</th>\n",
       "      <td>8</td>\n",
       "      <td>4760</td>\n",
       "    </tr>\n",
       "    <tr>\n",
       "      <th>14</th>\n",
       "      <td>9</td>\n",
       "      <td>4631</td>\n",
       "    </tr>\n",
       "    <tr>\n",
       "      <th>12</th>\n",
       "      <td>10</td>\n",
       "      <td>4652</td>\n",
       "    </tr>\n",
       "    <tr>\n",
       "      <th>13</th>\n",
       "      <td>11</td>\n",
       "      <td>4651</td>\n",
       "    </tr>\n",
       "    <tr>\n",
       "      <th>10</th>\n",
       "      <td>12</td>\n",
       "      <td>5062</td>\n",
       "    </tr>\n",
       "    <tr>\n",
       "      <th>3</th>\n",
       "      <td>13</td>\n",
       "      <td>5605</td>\n",
       "    </tr>\n",
       "    <tr>\n",
       "      <th>6</th>\n",
       "      <td>14</td>\n",
       "      <td>5456</td>\n",
       "    </tr>\n",
       "    <tr>\n",
       "      <th>9</th>\n",
       "      <td>15</td>\n",
       "      <td>5404</td>\n",
       "    </tr>\n",
       "    <tr>\n",
       "      <th>8</th>\n",
       "      <td>16</td>\n",
       "      <td>5414</td>\n",
       "    </tr>\n",
       "    <tr>\n",
       "      <th>4</th>\n",
       "      <td>17</td>\n",
       "      <td>5529</td>\n",
       "    </tr>\n",
       "    <tr>\n",
       "      <th>5</th>\n",
       "      <td>18</td>\n",
       "      <td>5475</td>\n",
       "    </tr>\n",
       "    <tr>\n",
       "      <th>7</th>\n",
       "      <td>19</td>\n",
       "      <td>5435</td>\n",
       "    </tr>\n",
       "    <tr>\n",
       "      <th>2</th>\n",
       "      <td>20</td>\n",
       "      <td>5692</td>\n",
       "    </tr>\n",
       "    <tr>\n",
       "      <th>0</th>\n",
       "      <td>21</td>\n",
       "      <td>5815</td>\n",
       "    </tr>\n",
       "    <tr>\n",
       "      <th>1</th>\n",
       "      <td>22</td>\n",
       "      <td>5781</td>\n",
       "    </tr>\n",
       "  </tbody>\n",
       "</table>\n",
       "</div>"
      ],
      "text/plain": [
       "    creation_time  counts\n",
       "11              8    4760\n",
       "14              9    4631\n",
       "12             10    4652\n",
       "13             11    4651\n",
       "10             12    5062\n",
       "3              13    5605\n",
       "6              14    5456\n",
       "9              15    5404\n",
       "8              16    5414\n",
       "4              17    5529\n",
       "5              18    5475\n",
       "7              19    5435\n",
       "2              20    5692\n",
       "0              21    5815\n",
       "1              22    5781"
      ]
     },
     "execution_count": 18,
     "metadata": {},
     "output_type": "execute_result"
    }
   ],
   "source": [
    "import pandas as pd\n",
    "\n",
    "# read vals from csv\n",
    "df_allergy = pd.read_csv('ODL_ALLERGY.csv')\n",
    "df_allergy_customer = pd.read_csv('ODL_ALLERGY_CUSTOMER.csv')\n",
    "df_order = pd.read_csv('ODL_ORDER.csv')\n",
    "df_order_item = pd.read_csv('ODL_ORDER_ITEM.csv')\n",
    "df_orderables = pd.read_csv('ODL_ORDERABLES.csv')\n",
    "df_restaurant = pd.read_csv('ODL_RESTAURANT.csv')\n",
    "\n",
    "# remove unwanted cols\n",
    "df_allergy = df_allergy.drop(columns=['id', '_rid', '_self', '_etag', '_attachments', '_ts'])\n",
    "df_allergy_customer = df_allergy_customer.drop(columns=['id', '_rid', '_self', '_etag', '_attachments', '_ts'])\n",
    "df_order = df_order.drop(columns=['id', '_rid', '_self', '_etag', '_attachments', '_ts'])\n",
    "df_order_item = df_order_item.drop(columns=['id', '_rid', '_self', '_etag', '_attachments', '_ts', 'Column_useless'])\n",
    "df_orderables = df_orderables.drop(columns=['id', '_rid', '_self', '_etag', '_attachments', '_ts'])\n",
    "df_restaurant = df_restaurant.drop(columns=['id', '_rid', '_self', '_etag', '_attachments', '_ts'])\n",
    "df_restaurant = df_restaurant.drop(df_restaurant.columns[0], axis=1)\n",
    "\n",
    "# take city col from other table\n",
    "df_order = df_order.join(df_restaurant[['city']], on='restaurant_id')\n",
    "\n",
    "# split datetime and keep only hours, remove minutes\n",
    "df_order[['creation_date_only', 'creation_time']] = df_order['creation_date'].str.split(' ', 1, expand=True)\n",
    "df_order['creation_time'] = df_order['creation_time'].str.split(':', 1, expand=True)[0]\n",
    "\n",
    "# what city to keep\n",
    "df_order_ny = df_order[df_order.city =='New York']\n",
    "df_order_sf = df_order[df_order.city =='San Francisco']\n",
    "\n",
    "# hours df per city for plot as int for sorting\n",
    "df_hours_ny = df_order_ny['creation_time'].value_counts().rename_axis('creation_time').reset_index(name='counts')\n",
    "df_hours_ny['creation_time'] = df_hours_ny['creation_time'].str.strip()\n",
    "df_hours_ny['creation_time'] = df_hours_ny['creation_time'].astype(int)\n",
    "df_hours_ny = df_hours_ny.sort_values(by='creation_time', ascending=True)\n",
    "\n",
    "df_hours_sf = df_order_sf['creation_time'].value_counts().rename_axis('creation_time').reset_index(name='counts')\n",
    "df_hours_sf['creation_time'] = df_hours_sf['creation_time'].str.strip()\n",
    "df_hours_sf['creation_time'] = df_hours_sf['creation_time'].astype(int)\n",
    "df_hours_sf = df_hours_sf.sort_values(by='creation_time', ascending=True)\n",
    "\n",
    "df_hours_ny"
   ]
  },
  {
   "cell_type": "code",
   "execution_count": 19,
   "metadata": {},
   "outputs": [
    {
     "data": {
      "image/png": "[encoded data removed]",
      "text/plain": [
       "<Figure size 432x288 with 1 Axes>"
      ]
     },
     "metadata": {
      "needs_background": "light"
     },
     "output_type": "display_data"
    }
   ],
   "source": [
    "import matplotlib.pyplot as plt\n",
    "\n",
    "plt.bar(df_hours_ny['creation_time'], df_hours_ny['counts'], align='center', alpha=0.5)\n",
    "#plt.xticks(y_pos, objects)\n",
    "plt.ylabel('Orders')\n",
    "plt.xlabel('Hours')\n",
    "plt.title('number of orders per hour in New York')\n",
    "\n",
    "plt.show()"
   ]
  },
  {
   "cell_type": "code",
   "execution_count": 20,
   "metadata": {},
   "outputs": [
    {
     "data": {
      "image/png": "[encoded data removed]",
      "text/plain": [
       "<Figure size 432x288 with 1 Axes>"
      ]
     },
     "metadata": {
      "needs_background": "light"
     },
     "output_type": "display_data"
    }
   ],
   "source": [
    "plt.bar(df_hours_sf['creation_time'], df_hours_sf['counts'], align='center', alpha=0.5)\n",
    "#plt.xticks(y_pos, objects)\n",
    "plt.ylabel('Orders')\n",
    "plt.xlabel('Hours')\n",
    "plt.title('number of orders per hour in San Francisco')\n",
    "\n",
    "plt.show()"
   ]
  },
  {
   "cell_type": "code",
   "execution_count": null,
   "metadata": {},
   "outputs": [],
   "source": []
  }
 ],
 "metadata": {
  "kernelspec": {
   "display_name": "Python 3.8.10 64-bit",
   "language": "python",
   "name": "python3810jvsc74a57bd0916dbcbb3f70747c44a77c7bcd40155683ae19c65e1c03b4aa3499c5328201f1"
  },
  "language_info": {
   "codemirror_mode": {
    "name": "ipython",
    "version": 3
   },
   "file_extension": ".py",
   "mimetype": "text/x-python",
   "name": "python",
   "nbconvert_exporter": "python",
   "pygments_lexer": "ipython3",
   "version": "3.8.10"
  }
 },
 "nbformat": 4,
 "nbformat_minor": 4
}
